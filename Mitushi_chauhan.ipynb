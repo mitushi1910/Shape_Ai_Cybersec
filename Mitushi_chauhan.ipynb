{
  "nbformat": 4,
  "nbformat_minor": 0,
  "metadata": {
    "colab": {
      "name": "Mitushi_chauhan.ipynb",
      "provenance": [],
      "collapsed_sections": []
    },
    "kernelspec": {
      "name": "python3",
      "display_name": "Python 3"
    },
    "language_info": {
      "name": "python"
    }
  },
  "cells": [
    {
      "cell_type": "code",
      "metadata": {
        "id": "c6nc66Lq_JAw"
      },
      "source": [
        "import requests"
      ],
      "execution_count": 7,
      "outputs": []
    },
    {
      "cell_type": "code",
      "metadata": {
        "id": "wOYvPPRa_Qy9"
      },
      "source": [
        "#import os"
      ],
      "execution_count": 8,
      "outputs": []
    },
    {
      "cell_type": "code",
      "metadata": {
        "id": "KBerZENH_kaL"
      },
      "source": [
        "from datetime import datetime"
      ],
      "execution_count": 9,
      "outputs": []
    },
    {
      "cell_type": "code",
      "metadata": {
        "colab": {
          "base_uri": "https://localhost:8080/"
        },
        "id": "zDHe5n2mApXu",
        "outputId": "9caa747a-e588-41d4-f297-0b6b15f9eab7"
      },
      "source": [
        "api_key='4135fd5aaf7ba8d845e0103c37776e8a'\n",
        "location=input(\"Enter the city name:\")"
      ],
      "execution_count": 12,
      "outputs": [
        {
          "output_type": "stream",
          "text": [
            "Enter the city name:Gwalior\n"
          ],
          "name": "stdout"
        }
      ]
    },
    {
      "cell_type": "code",
      "metadata": {
        "id": "PnwT4LPRBYYE"
      },
      "source": [
        "complete_api_link=\"https://api.openweathermap.org/data/2.5/weather?q=\"+location+\"&appid=\"+api_key\n",
        "api_link=requests.get(complete_api_link)\n",
        "api_data=api_link.json()"
      ],
      "execution_count": 13,
      "outputs": []
    },
    {
      "cell_type": "code",
      "metadata": {
        "id": "fn2_pgxQCMUe"
      },
      "source": [
        "#create variables to store and display data\n",
        "temp_city = ((api_data['main']['temp'])-273.15)\n",
        "weather_desc = api_data['weather'][0]['description']\n",
        "hmdt = api_data['main']['humidity']\n",
        "wind_spd = api_data['wind']['speed']\n",
        "date_time = datetime.now().strftime(\"%d %b %y | %I:%M:%S  %p\")\n"
      ],
      "execution_count": 14,
      "outputs": []
    },
    {
      "cell_type": "code",
      "metadata": {
        "colab": {
          "base_uri": "https://localhost:8080/"
        },
        "id": "bLwtB9vcDyaK",
        "outputId": "7eee0aff-577f-4516-c54b-18489598ebd8"
      },
      "source": [
        "print(\"_____________________________________________________________\")\n",
        "print(\"weather stats for - {} || {} \".format(location.upper(), date_time))\n",
        "print(\"_____________________________________________________________\")"
      ],
      "execution_count": 15,
      "outputs": [
        {
          "output_type": "stream",
          "text": [
            "_____________________________________________________________\n",
            "weather stats for - GWALIOR || 21 Jun 21 | 07:32:10  PM \n",
            "_____________________________________________________________\n"
          ],
          "name": "stdout"
        }
      ]
    },
    {
      "cell_type": "code",
      "metadata": {
        "colab": {
          "base_uri": "https://localhost:8080/"
        },
        "id": "1y0oBcq3EYEg",
        "outputId": "52c80305-b958-4216-b7f3-e31b50f45a39"
      },
      "source": [
        "print(\"Current temperature is : {:.2f} deg C\".format(temp_city))\n",
        "print(\"Current weather desc   : \", weather_desc)\n",
        "print(\"Current Humidity       : \",hmdt,'%')\n",
        "print(\"Current wind speed     : \",wind_spd,'kmph')"
      ],
      "execution_count": 16,
      "outputs": [
        {
          "output_type": "stream",
          "text": [
            "Current temperature is : 32.50 deg C\n",
            "Current weather desc   :  few clouds\n",
            "Current Humidity       :  49 %\n",
            "Current wind speed     :  2.43 kmph\n"
          ],
          "name": "stdout"
        }
      ]
    }
  ]
}